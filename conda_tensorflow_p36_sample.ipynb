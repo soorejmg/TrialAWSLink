{
 "cells": [
  {
   "cell_type": "code",
   "execution_count": 1,
   "id": "a5091ad0",
   "metadata": {},
   "outputs": [
    {
     "name": "stdout",
     "output_type": "stream",
     "text": [
      "chiku\n"
     ]
    }
   ],
   "source": [
    "print('chiku')"
   ]
  },
  {
   "cell_type": "code",
   "execution_count": null,
   "id": "83e1bb18",
   "metadata": {},
   "outputs": [],
   "source": []
  }
 ],
 "metadata": {
  "kernelspec": {
   "display_name": "conda_tensorflow_p36",
   "language": "python",
   "name": "conda_tensorflow_p36"
  },
  "language_info": {
   "codemirror_mode": {
    "name": "ipython",
    "version": 3
   },
   "file_extension": ".py",
   "mimetype": "text/x-python",
   "name": "python",
   "nbconvert_exporter": "python",
   "pygments_lexer": "ipython3",
   "version": "3.6.13"
  }
 },
 "nbformat": 4,
 "nbformat_minor": 5
}
