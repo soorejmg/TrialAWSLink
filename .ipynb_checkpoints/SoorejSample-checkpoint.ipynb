{
 "cells": [
  {
   "cell_type": "code",
   "execution_count": 1,
   "id": "0a29d9bf",
   "metadata": {},
   "outputs": [
    {
     "name": "stdout",
     "output_type": "stream",
     "text": [
      "soorej\n"
     ]
    }
   ],
   "source": [
    "print('soorej')"
   ]
  },
  {
   "cell_type": "markdown",
   "id": "8f454b8c",
   "metadata": {},
   "source": [
    "# Steps to be followed\n",
    "1. create nexessary libraries\n",
    "2. Create S3 Bucket\n",
    "3. Map train and test data in S3\n",
    "4. Mapping path of models in S3\n"
   ]
  },
  {
   "cell_type": "code",
   "execution_count": 2,
   "id": "f00ac384",
   "metadata": {},
   "outputs": [],
   "source": [
    "import sagemaker\n",
    "import boto3\n",
    "from sagemaker.amazon.amazon_estimator import get_image_uri\n",
    "from sagemaker.session import s3_input, Session"
   ]
  },
  {
   "cell_type": "code",
   "execution_count": 3,
   "id": "f761184e",
   "metadata": {},
   "outputs": [
    {
     "name": "stdout",
     "output_type": "stream",
     "text": [
      "ap-southeast-1\n"
     ]
    }
   ],
   "source": [
    "bucket_name='janko-soorej-trial-s3'\n",
    "my_region=boto3.session.Session().region_name # set region of the isntance\n",
    "print(my_region)"
   ]
  },
  {
   "cell_type": "code",
   "execution_count": 4,
   "id": "36a42dfe",
   "metadata": {},
   "outputs": [
    {
     "name": "stdout",
     "output_type": "stream",
     "text": [
      "S3_error: An error occurred (BucketAlreadyOwnedByYou) when calling the CreateBucket operation: Your previous request to create the named bucket succeeded and you already own it.\n"
     ]
    }
   ],
   "source": [
    "s3=boto3.resource('s3')\n",
    "try:\n",
    "    if my_region == 'ap-southeast-1':\n",
    "        s3.create_bucket(Bucket=bucket_name,CreateBucketConfiguration={'LocationConstraint': my_region})\n",
    "    print('s3 bucket created succefully')\n",
    "\n",
    "except Exception as e:\n",
    "    print('S3_error:',e)"
   ]
  },
  {
   "cell_type": "code",
   "execution_count": 5,
   "id": "e14be23a",
   "metadata": {},
   "outputs": [
    {
     "name": "stdout",
     "output_type": "stream",
     "text": [
      "s3://janko-soorej-trial-s3/xgboost-as-a-built-in-algo/output\n"
     ]
    }
   ],
   "source": [
    "#set an output path where trained model will be saved\n",
    "prefix='xgboost-as-a-built-in-algo'\n",
    "output_path='s3://{}/{}/output'.format(bucket_name,prefix)\n",
    "print(output_path)"
   ]
  },
  {
   "cell_type": "markdown",
   "id": "1e30b7c0",
   "metadata": {},
   "source": [
    "# download the dataset and store in s3"
   ]
  },
  {
   "cell_type": "code",
   "execution_count": 6,
   "id": "7301ad78",
   "metadata": {},
   "outputs": [
    {
     "name": "stdout",
     "output_type": "stream",
     "text": [
      "Success: downloaded bank file\n",
      "Success:Data Loaded to dataframe\n"
     ]
    }
   ],
   "source": [
    "import pandas as pd\n",
    "import urllib\n",
    "try:\n",
    "    urllib.request.urlretrieve(\"https://d1.awsstatic.com/tmt/build-train-deploy-machine-learning-model-sagemaker/bank_clean.27f01fbbdf43271788427f3682996ae29ceca05d.csv\",'bank_clean.csv')\n",
    "    print('Success: downloaded bank file')\n",
    "except Exeption as e:\n",
    "    print('Data load error:',e)\n",
    "    \n",
    "try:\n",
    "    model_data=pd.read_csv('./bank_clean.csv',index_col=0)\n",
    "    print('Success:Data Loaded to dataframe')\n",
    "except Exception as e:\n",
    "    print('Data load error',e)"
   ]
  },
  {
   "cell_type": "code",
   "execution_count": 7,
   "id": "3922478b",
   "metadata": {},
   "outputs": [
    {
     "name": "stdout",
     "output_type": "stream",
     "text": [
      "(28831, 61) (12357, 61)\n"
     ]
    }
   ],
   "source": [
    "#train test split. just split using np. didt use traintest split etc\n",
    "import numpy as np\n",
    "train_data,test_data=np.split(model_data.sample(frac=1,random_state=1729),[int(0.7 * len(model_data))])\n",
    "print(train_data.shape,test_data.shape)"
   ]
  },
  {
   "cell_type": "code",
   "execution_count": 8,
   "id": "4888b30a",
   "metadata": {},
   "outputs": [],
   "source": [
    "#in sage maker they want the dependent variable to be the first coloum ( the video guy was mentioning it)\n",
    "#create train data and test data bucket start wih train data\n",
    "# then using pd.concat , make a new dataframe with y_yes in frist coloum and then other independent variables(by dropping other values)\n",
    "import os\n",
    "pd.concat([train_data['y_yes'],train_data.drop(['y_no','y_yes'],axis=1)],axis=1).to_csv('train.csv',index=False,header=False)\n",
    "boto3.Session().resource('s3').Bucket(bucket_name).Object(os.path.join(prefix,'train/train.csv')).upload_file('train.csv')"
   ]
  },
  {
   "cell_type": "code",
   "execution_count": 9,
   "id": "8cc20d00",
   "metadata": {},
   "outputs": [],
   "source": [
    "# now read the training data from S3\n",
    "s3_input_train= sagemaker.TrainingInput(s3_data='s3://{}/{}/train'.format(bucket_name,prefix),content_type='csv')"
   ]
  },
  {
   "cell_type": "code",
   "execution_count": 10,
   "id": "c73f640f",
   "metadata": {},
   "outputs": [],
   "source": [
    "# DO FOR TEST DATA\n",
    "\n",
    "# then using pd.concat , make a new dataframe with y_yes in frist coloum and then other independent variables(by dropping other values)\n",
    "import os\n",
    "pd.concat([test_data['y_yes'],test_data.drop(['y_no','y_yes'],axis=1)],axis=1).to_csv('test.csv',index=False,header=False)\n",
    "boto3.Session().resource('s3').Bucket(bucket_name).Object(os.path.join(prefix,'test/test.csv')).upload_file('test.csv')"
   ]
  },
  {
   "cell_type": "code",
   "execution_count": 11,
   "id": "867b0dbf",
   "metadata": {},
   "outputs": [],
   "source": [
    "# now read the Testing data from S3\n",
    "\n",
    "s3_input_test= sagemaker.TrainingInput(s3_data='s3://{}/{}/test'.format(bucket_name,prefix),content_type='csv')"
   ]
  },
  {
   "cell_type": "markdown",
   "id": "cdb2669d",
   "metadata": {},
   "source": [
    "# Build the model using sage makers inbuilt sgboost algorithm\n"
   ]
  },
  {
   "cell_type": "code",
   "execution_count": 12,
   "id": "bd85fe14",
   "metadata": {},
   "outputs": [
    {
     "name": "stderr",
     "output_type": "stream",
     "text": [
      "The method get_image_uri has been renamed in sagemaker>=2.\n",
      "See: https://sagemaker.readthedocs.io/en/stable/v2.html for details.\n"
     ]
    }
   ],
   "source": [
    "#this line automatically looks or XGBoost image uri and builds an XGBoost Container. specify repo version depending on preference\n",
    "\n",
    "container= get_image_uri(boto3.Session().region_name,'xgboost',repo_version='1.0-1')"
   ]
  },
  {
   "cell_type": "code",
   "execution_count": 14,
   "id": "b29777ae",
   "metadata": {},
   "outputs": [],
   "source": [
    "#initialise hyper parameters\n",
    "hyperparameters={\"max_depth\":\"5\",\"eta\":\"0.2\",\"gamma\":\"0.4\",\"min_child_weight\":\"6\",\"subsample\":\"0.7\",\n",
    "    \"objective\":\"binary:logistic\",\"num_round\":50\n",
    "        }"
   ]
  },
  {
   "cell_type": "code",
   "execution_count": 15,
   "id": "aa694219",
   "metadata": {},
   "outputs": [
    {
     "name": "stderr",
     "output_type": "stream",
     "text": [
      "train_instance_count has been renamed in sagemaker>=2.\n",
      "See: https://sagemaker.readthedocs.io/en/stable/v2.html for details.\n",
      "train_instance_type has been renamed in sagemaker>=2.\n",
      "See: https://sagemaker.readthedocs.io/en/stable/v2.html for details.\n",
      "train_max_run has been renamed in sagemaker>=2.\n",
      "See: https://sagemaker.readthedocs.io/en/stable/v2.html for details.\n",
      "train_use_spot_instances has been renamed in sagemaker>=2.\n",
      "See: https://sagemaker.readthedocs.io/en/stable/v2.html for details.\n",
      "train_max_wait has been renamed in sagemaker>=2.\n",
      "See: https://sagemaker.readthedocs.io/en/stable/v2.html for details.\n",
      "train_volume_size has been renamed in sagemaker>=2.\n",
      "See: https://sagemaker.readthedocs.io/en/stable/v2.html for details.\n"
     ]
    }
   ],
   "source": [
    "#construct a s Sagemaker estimator that calls the sgboost-container\n",
    "estimator=sagemaker.estimator.Estimator(image_uri=container,# in old version it was image_name\n",
    "                                       hyperparameters=hyperparameters,\n",
    "                                       role=sagemaker.get_execution_role(),\n",
    "                                       train_instance_count=1,\n",
    "                                       train_instance_type='ml.m5.2xlarge',\n",
    "                                       train_volume_size=5,\n",
    "                                       output_path=output_path,\n",
    "                                       train_use_spot_instances=True,# this is for reducing billing cost\n",
    "                                       train_max_run=300,\n",
    "                                       train_max_wait=600\n",
    "                                      )"
   ]
  },
  {
   "cell_type": "code",
   "execution_count": 16,
   "id": "f1fe7a84",
   "metadata": {},
   "outputs": [
    {
     "name": "stdout",
     "output_type": "stream",
     "text": [
      "2021-10-20 23:26:54 Starting - Starting the training job...\n",
      "2021-10-20 23:26:56 Starting - Launching requested ML instancesProfilerReport-1634772414: InProgress\n",
      "...\n",
      "2021-10-20 23:27:48 Starting - Preparing the instances for training.........\n",
      "2021-10-20 23:29:24 Downloading - Downloading input data\n",
      "2021-10-20 23:29:24 Training - Downloading the training image..\u001b[34mINFO:sagemaker-containers:Imported framework sagemaker_xgboost_container.training\u001b[0m\n",
      "\u001b[34mINFO:sagemaker-containers:Failed to parse hyperparameter objective value binary:logistic to Json.\u001b[0m\n",
      "\u001b[34mReturning the value itself\u001b[0m\n",
      "\u001b[34mINFO:sagemaker-containers:No GPUs detected (normal if no gpus installed)\u001b[0m\n",
      "\u001b[34mINFO:sagemaker_xgboost_container.training:Running XGBoost Sagemaker in algorithm mode\u001b[0m\n",
      "\u001b[34mINFO:root:Determined delimiter of CSV input is ','\u001b[0m\n",
      "\u001b[34mINFO:root:Determined delimiter of CSV input is ','\u001b[0m\n",
      "\u001b[34mINFO:root:Determined delimiter of CSV input is ','\u001b[0m\n",
      "\u001b[34m[23:29:32] 28831x59 matrix with 1701029 entries loaded from /opt/ml/input/data/train?format=csv&label_column=0&delimiter=,\u001b[0m\n",
      "\u001b[34mINFO:root:Determined delimiter of CSV input is ','\u001b[0m\n",
      "\u001b[34m[23:29:32] 12357x59 matrix with 729063 entries loaded from /opt/ml/input/data/validation?format=csv&label_column=0&delimiter=,\u001b[0m\n",
      "\u001b[34mINFO:root:Single node training.\u001b[0m\n",
      "\u001b[34mINFO:root:Train matrix has 28831 rows\u001b[0m\n",
      "\u001b[34mINFO:root:Validation matrix has 12357 rows\u001b[0m\n",
      "\u001b[34m[23:29:32] WARNING: /workspace/src/learner.cc:328: \u001b[0m\n",
      "\u001b[34mParameters: { num_round } might not be used.\n",
      "\n",
      "  This may not be accurate due to some parameters are only used in language bindings but\n",
      "  passed down to XGBoost core.  Or some parameters are not used but slip through this\n",
      "  verification. Please open an issue if you find above cases.\n",
      "\n",
      "\u001b[0m\n",
      "\u001b[34m[0]#011train-error:0.10017#011validation-error:0.10512\u001b[0m\n",
      "\u001b[34m[1]#011train-error:0.09913#011validation-error:0.10504\u001b[0m\n",
      "\u001b[34m[2]#011train-error:0.09920#011validation-error:0.10561\u001b[0m\n",
      "\u001b[34m[3]#011train-error:0.09920#011validation-error:0.10415\u001b[0m\n",
      "\u001b[34m[4]#011train-error:0.09889#011validation-error:0.10415\u001b[0m\n",
      "\u001b[34m[5]#011train-error:0.09910#011validation-error:0.10407\u001b[0m\n",
      "\u001b[34m[6]#011train-error:0.09916#011validation-error:0.10407\u001b[0m\n",
      "\u001b[34m[7]#011train-error:0.09885#011validation-error:0.10367\u001b[0m\n",
      "\u001b[34m[8]#011train-error:0.09861#011validation-error:0.10367\u001b[0m\n",
      "\u001b[34m[9]#011train-error:0.09868#011validation-error:0.10302\u001b[0m\n",
      "\u001b[34m[10]#011train-error:0.09844#011validation-error:0.10302\u001b[0m\n",
      "\u001b[34m[11]#011train-error:0.09840#011validation-error:0.10423\u001b[0m\n",
      "\u001b[34m[12]#011train-error:0.09819#011validation-error:0.10464\u001b[0m\n",
      "\u001b[34m[13]#011train-error:0.09837#011validation-error:0.10464\u001b[0m\n",
      "\u001b[34m[14]#011train-error:0.09802#011validation-error:0.10472\u001b[0m\n",
      "\u001b[34m[15]#011train-error:0.09788#011validation-error:0.10504\u001b[0m\n",
      "\u001b[34m[16]#011train-error:0.09805#011validation-error:0.10504\u001b[0m\n",
      "\u001b[34m[17]#011train-error:0.09781#011validation-error:0.10496\u001b[0m\n",
      "\u001b[34m[18]#011train-error:0.09778#011validation-error:0.10504\u001b[0m\n",
      "\u001b[34m[19]#011train-error:0.09785#011validation-error:0.10512\u001b[0m\n",
      "\u001b[34m[20]#011train-error:0.09767#011validation-error:0.10528\u001b[0m\n",
      "\u001b[34m[21]#011train-error:0.09736#011validation-error:0.10528\u001b[0m\n",
      "\u001b[34m[22]#011train-error:0.09760#011validation-error:0.10537\u001b[0m\n",
      "\u001b[34m[23]#011train-error:0.09757#011validation-error:0.10569\u001b[0m\n",
      "\u001b[34m[24]#011train-error:0.09729#011validation-error:0.10537\u001b[0m\n",
      "\u001b[34m[25]#011train-error:0.09733#011validation-error:0.10561\u001b[0m\n",
      "\u001b[34m[26]#011train-error:0.09715#011validation-error:0.10545\u001b[0m\n",
      "\u001b[34m[27]#011train-error:0.09712#011validation-error:0.10520\u001b[0m\n",
      "\u001b[34m[28]#011train-error:0.09691#011validation-error:0.10520\u001b[0m\n",
      "\u001b[34m[29]#011train-error:0.09663#011validation-error:0.10520\u001b[0m\n",
      "\u001b[34m[30]#011train-error:0.09660#011validation-error:0.10528\u001b[0m\n",
      "\u001b[34m[31]#011train-error:0.09646#011validation-error:0.10545\u001b[0m\n",
      "\u001b[34m[32]#011train-error:0.09660#011validation-error:0.10528\u001b[0m\n",
      "\u001b[34m[33]#011train-error:0.09646#011validation-error:0.10537\u001b[0m\n",
      "\u001b[34m[34]#011train-error:0.09656#011validation-error:0.10528\u001b[0m\n",
      "\u001b[34m[35]#011train-error:0.09670#011validation-error:0.10553\u001b[0m\n",
      "\u001b[34m[36]#011train-error:0.09646#011validation-error:0.10537\u001b[0m\n",
      "\u001b[34m[37]#011train-error:0.09625#011validation-error:0.10537\u001b[0m\n",
      "\u001b[34m[38]#011train-error:0.09615#011validation-error:0.10553\u001b[0m\n",
      "\u001b[34m[39]#011train-error:0.09618#011validation-error:0.10553\u001b[0m\n",
      "\u001b[34m[40]#011train-error:0.09604#011validation-error:0.10585\u001b[0m\n",
      "\u001b[34m[41]#011train-error:0.09625#011validation-error:0.10585\u001b[0m\n",
      "\u001b[34m[42]#011train-error:0.09608#011validation-error:0.10593\u001b[0m\n",
      "\u001b[34m[43]#011train-error:0.09570#011validation-error:0.10545\u001b[0m\n",
      "\u001b[34m[44]#011train-error:0.09604#011validation-error:0.10528\u001b[0m\n",
      "\u001b[34m[45]#011train-error:0.09625#011validation-error:0.10504\u001b[0m\n",
      "\u001b[34m[46]#011train-error:0.09622#011validation-error:0.10520\u001b[0m\n",
      "\u001b[34m[47]#011train-error:0.09611#011validation-error:0.10512\u001b[0m\n",
      "\u001b[34m[48]#011train-error:0.09580#011validation-error:0.10488\u001b[0m\n",
      "\u001b[34m[49]#011train-error:0.09549#011validation-error:0.10480\u001b[0m\n",
      "\n",
      "2021-10-20 23:29:44 Uploading - Uploading generated training model\n",
      "2021-10-20 23:29:44 Completed - Training job completed\n",
      "Training seconds: 48\n",
      "Billable seconds: 13\n",
      "Managed Spot Training savings: 72.9%\n"
     ]
    }
   ],
   "source": [
    "estimator.fit({'train':s3_input_train,'validation':s3_input_test})"
   ]
  },
  {
   "cell_type": "markdown",
   "id": "3db3e834",
   "metadata": {},
   "source": [
    "# Deploy Machine Learning Model\n"
   ]
  },
  {
   "cell_type": "code",
   "execution_count": 17,
   "id": "583389ce",
   "metadata": {},
   "outputs": [
    {
     "name": "stdout",
     "output_type": "stream",
     "text": [
      "-------------!"
     ]
    }
   ],
   "source": [
    "Xgb_predictor=estimator.deploy(initial_instance_count=1,instance_type='ml.m4.xlarge')"
   ]
  },
  {
   "cell_type": "markdown",
   "id": "6ae809ee",
   "metadata": {},
   "source": [
    "# Preidcition of Test Data\n"
   ]
  },
  {
   "cell_type": "code",
   "execution_count": 40,
   "id": "e0755e95",
   "metadata": {},
   "outputs": [
    {
     "name": "stderr",
     "output_type": "stream",
     "text": [
      "The csv_serializer has been renamed in sagemaker>=2.\n",
      "See: https://sagemaker.readthedocs.io/en/stable/v2.html for details.\n"
     ]
    },
    {
     "name": "stdout",
     "output_type": "stream",
     "text": [
      "(12357,)\n"
     ]
    }
   ],
   "source": [
    "from sagemaker.predictor import csv_serializer\n",
    "test_data_array = test_data.drop(['y_no','y_yes'],axis=1).values #load data into an array . Please .values is important to convert to array. other ways ataframe\n",
    "#Xgb_predictor.content_type='text/csv' # set the dta type for an instance 'text/csv'\n",
    "Xgb_predictor.serializer= csv_serializer # set serializer type\n",
    "predictions=Xgb_predictor.predict(test_data_array).decode('utf-8') # preidct\n",
    "predictions_array=np.fromstring(predictions[1:],sep=',') # turn predeition to an array\n",
    "print(predictions_array.shape)\n"
   ]
  },
  {
   "cell_type": "code",
   "execution_count": 30,
   "id": "3d4174f3",
   "metadata": {},
   "outputs": [
    {
     "data": {
      "text/plain": [
       "dict_keys(['endpoint_name', 'sagemaker_session', 'serializer', 'deserializer', '_endpoint_config_name', '_model_names', '_context'])"
      ]
     },
     "execution_count": 30,
     "metadata": {},
     "output_type": "execute_result"
    }
   ],
   "source": [
    "Xgb_predictor.__dict__.keys()"
   ]
  },
  {
   "cell_type": "code",
   "execution_count": 41,
   "id": "f1e6a2fd",
   "metadata": {},
   "outputs": [
    {
     "name": "stdout",
     "output_type": "stream",
     "text": [
      "\n",
      "Overall Classification Rate: 89.5%\n",
      "\n",
      "Predicted      No Purchase    Purchase\n",
      "Observed\n",
      "No Purchase    90% (10775)    36% (161)\n",
      "Purchase        10% (1134)     64% (287) \n",
      "\n"
     ]
    }
   ],
   "source": [
    "#make confusion matrix\n",
    "cm = pd.crosstab(index=test_data['y_yes'], columns=np.round(predictions_array), rownames=['Observed'], colnames=['Predicted'])\n",
    "tn = cm.iloc[0,0]; fn = cm.iloc[1,0]; tp = cm.iloc[1,1]; fp = cm.iloc[0,1]; p = (tp+tn)/(tp+tn+fp+fn)*100\n",
    "print(\"\\n{0:<20}{1:<4.1f}%\\n\".format(\"Overall Classification Rate: \", p))\n",
    "print(\"{0:<15}{1:<15}{2:>8}\".format(\"Predicted\", \"No Purchase\", \"Purchase\"))\n",
    "print(\"Observed\")\n",
    "print(\"{0:<15}{1:<2.0f}% ({2:<}){3:>6.0f}% ({4:<})\".format(\"No Purchase\", tn/(tn+fn)*100,tn, fp/(tp+fp)*100, fp))\n",
    "print(\"{0:<16}{1:<1.0f}% ({2:<}){3:>7.0f}% ({4:<}) \\n\".format(\"Purchase\", fn/(tn+fn)*100,fn, tp/(tp+fp)*100, tp))"
   ]
  },
  {
   "cell_type": "code",
   "execution_count": 43,
   "id": "06102b14",
   "metadata": {},
   "outputs": [
    {
     "name": "stderr",
     "output_type": "stream",
     "text": [
      "The endpoint attribute has been renamed in sagemaker>=2.\n",
      "See: https://sagemaker.readthedocs.io/en/stable/v2.html for details.\n"
     ]
    },
    {
     "data": {
      "text/plain": [
       "[{'ResponseMetadata': {'RequestId': '52CNDWWCMPB04VDC',\n",
       "   'HostId': 'pWaR1QMylCSLuBrmTKTCbu0EJxLCalwIXB5xnjIGD2Rn4MI6dHaidfKxt/Rrg0VvPOqJZsIF0bo=',\n",
       "   'HTTPStatusCode': 200,\n",
       "   'HTTPHeaders': {'x-amz-id-2': 'pWaR1QMylCSLuBrmTKTCbu0EJxLCalwIXB5xnjIGD2Rn4MI6dHaidfKxt/Rrg0VvPOqJZsIF0bo=',\n",
       "    'x-amz-request-id': '52CNDWWCMPB04VDC',\n",
       "    'date': 'Thu, 21 Oct 2021 23:43:26 GMT',\n",
       "    'content-type': 'application/xml',\n",
       "    'transfer-encoding': 'chunked',\n",
       "    'server': 'AmazonS3',\n",
       "    'connection': 'close'},\n",
       "   'RetryAttempts': 0},\n",
       "  'Deleted': [{'Key': 'xgboost-as-a-built-in-algo/output/sagemaker-xgboost-2021-10-20-23-26-54-410/rule-output/ProfilerReport-1634772414/profiler-output/profiler-reports/LowGPUUtilization.json'},\n",
       "   {'Key': 'xgboost-as-a-built-in-algo/output/sagemaker-xgboost-2021-10-20-23-15-11-900/rule-output/ProfilerReport-1634771711/profiler-output/profiler-report.html'},\n",
       "   {'Key': 'xgboost-as-a-built-in-algo/output/sagemaker-xgboost-2021-10-20-23-26-54-410/rule-output/ProfilerReport-1634772414/profiler-output/profiler-reports/OverallFrameworkMetrics.json'},\n",
       "   {'Key': 'xgboost-as-a-built-in-algo/output/sagemaker-xgboost-2021-10-20-23-26-54-410/profiler-output/system/incremental/2021102023/1634772540.algo-1.json'},\n",
       "   {'Key': 'xgboost-as-a-built-in-algo/output/sagemaker-xgboost-2021-10-20-23-24-22-606/profiler-output/system/incremental/2021102023/1634772420.algo-1.json'},\n",
       "   {'Key': 'xgboost-as-a-built-in-algo/output/sagemaker-xgboost-2021-10-20-23-15-11-900/rule-output/ProfilerReport-1634771711/profiler-output/profiler-reports/LoadBalancing.json'},\n",
       "   {'Key': 'xgboost-as-a-built-in-algo/output/sagemaker-xgboost-2021-10-20-23-15-11-900/rule-output/ProfilerReport-1634771711/profiler-output/profiler-reports/CPUBottleneck.json'},\n",
       "   {'Key': 'xgboost-as-a-built-in-algo/output/sagemaker-xgboost-2021-10-20-23-15-11-900/profiler-output/framework/training_job_end.ts'},\n",
       "   {'Key': 'xgboost-as-a-built-in-algo/output/sagemaker-xgboost-2021-10-20-23-15-11-900/rule-output/ProfilerReport-1634771711/profiler-output/profiler-reports/MaxInitializationTime.json'},\n",
       "   {'Key': 'xgboost-as-a-built-in-algo/output/sagemaker-xgboost-2021-10-20-23-26-54-410/output/model.tar.gz'},\n",
       "   {'Key': 'xgboost-as-a-built-in-algo/output/sagemaker-xgboost-2021-10-20-23-26-54-410/rule-output/ProfilerReport-1634772414/profiler-output/profiler-reports/IOBottleneck.json'},\n",
       "   {'Key': 'xgboost-as-a-built-in-algo/output/sagemaker-xgboost-2021-10-20-23-26-54-410/rule-output/ProfilerReport-1634772414/profiler-output/profiler-reports/Dataloader.json'},\n",
       "   {'Key': 'xgboost-as-a-built-in-algo/test/test.csv'},\n",
       "   {'Key': 'xgboost-as-a-built-in-algo/output/sagemaker-xgboost-2021-10-20-23-26-54-410/rule-output/ProfilerReport-1634772414/profiler-output/profiler-reports/GPUMemoryIncrease.json'},\n",
       "   {'Key': 'xgboost-as-a-built-in-algo/output/sagemaker-xgboost-2021-10-20-23-15-11-900/profiler-output/system/training_job_end.ts'},\n",
       "   {'Key': 'xgboost-as-a-built-in-algo/output/sagemaker-xgboost-2021-10-20-23-24-22-606/output/model.tar.gz'},\n",
       "   {'Key': 'xgboost-as-a-built-in-algo/output/sagemaker-xgboost-2021-10-20-23-26-54-410/rule-output/ProfilerReport-1634772414/profiler-output/profiler-report.html'},\n",
       "   {'Key': 'xgboost-as-a-built-in-algo/output/sagemaker-xgboost-2021-10-20-23-26-54-410/rule-output/ProfilerReport-1634772414/profiler-output/profiler-reports/LoadBalancing.json'},\n",
       "   {'Key': 'xgboost-as-a-built-in-algo/output/sagemaker-xgboost-2021-10-20-23-26-54-410/rule-output/ProfilerReport-1634772414/profiler-output/profiler-reports/OverallSystemUsage.json'},\n",
       "   {'Key': 'xgboost-as-a-built-in-algo/output/sagemaker-xgboost-2021-10-20-23-15-11-900/rule-output/ProfilerReport-1634771711/profiler-output/profiler-reports/GPUMemoryIncrease.json'},\n",
       "   {'Key': 'xgboost-as-a-built-in-algo/output/sagemaker-xgboost-2021-10-20-23-26-54-410/rule-output/ProfilerReport-1634772414/profiler-output/profiler-reports/MaxInitializationTime.json'},\n",
       "   {'Key': 'xgboost-as-a-built-in-algo/output/sagemaker-xgboost-2021-10-20-23-15-11-900/rule-output/ProfilerReport-1634771711/profiler-output/profiler-report.ipynb'},\n",
       "   {'Key': 'xgboost-as-a-built-in-algo/output/sagemaker-xgboost-2021-10-20-23-26-54-410/rule-output/ProfilerReport-1634772414/profiler-output/profiler-reports/CPUBottleneck.json'},\n",
       "   {'Key': 'xgboost-as-a-built-in-algo/output/sagemaker-xgboost-2021-10-20-23-26-54-410/profiler-output/framework/training_job_end.ts'},\n",
       "   {'Key': 'xgboost-as-a-built-in-algo/output/sagemaker-xgboost-2021-10-20-23-07-01-488/profiler-output/system/incremental/2021102023/1634771340.algo-1.json'},\n",
       "   {'Key': 'xgboost-as-a-built-in-algo/output/sagemaker-xgboost-2021-10-20-23-15-11-900/rule-output/ProfilerReport-1634771711/profiler-output/profiler-reports/LowGPUUtilization.json'},\n",
       "   {'Key': 'xgboost-as-a-built-in-algo/output/sagemaker-xgboost-2021-10-20-23-15-11-900/output/model.tar.gz'},\n",
       "   {'Key': 'xgboost-as-a-built-in-algo/output/sagemaker-xgboost-2021-10-20-23-15-11-900/rule-output/ProfilerReport-1634771711/profiler-output/profiler-reports/StepOutlier.json'},\n",
       "   {'Key': 'xgboost-as-a-built-in-algo/output/sagemaker-xgboost-2021-10-20-23-15-11-900/rule-output/ProfilerReport-1634771711/profiler-output/profiler-reports/OverallSystemUsage.json'},\n",
       "   {'Key': 'xgboost-as-a-built-in-algo/output/sagemaker-xgboost-2021-10-20-23-15-11-900/profiler-output/system/incremental/2021102023/1634771820.algo-1.json'},\n",
       "   {'Key': 'xgboost-as-a-built-in-algo/output/sagemaker-xgboost-2021-10-20-23-24-22-606/profiler-output/framework/training_job_end.ts'},\n",
       "   {'Key': 'xgboost-as-a-built-in-algo/output/sagemaker-xgboost-2021-10-20-23-15-11-900/rule-output/ProfilerReport-1634771711/profiler-output/profiler-reports/IOBottleneck.json'},\n",
       "   {'Key': 'xgboost-as-a-built-in-algo/output/sagemaker-xgboost-2021-10-20-23-24-22-606/profiler-output/system/training_job_end.ts'},\n",
       "   {'Key': 'xgboost-as-a-built-in-algo/train/train.csv'},\n",
       "   {'Key': 'xgboost-as-a-built-in-algo/output/sagemaker-xgboost-2021-10-20-23-15-11-900/profiler-output/system/incremental/2021102023/1634771880.algo-1.json'},\n",
       "   {'Key': 'xgboost-as-a-built-in-algo/output/sagemaker-xgboost-2021-10-20-23-26-54-410/profiler-output/system/training_job_end.ts'},\n",
       "   {'Key': 'xgboost-as-a-built-in-algo/output/sagemaker-xgboost-2021-10-20-23-26-54-410/rule-output/ProfilerReport-1634772414/profiler-output/profiler-report.ipynb'},\n",
       "   {'Key': 'xgboost-as-a-built-in-algo/output/sagemaker-xgboost-2021-10-20-23-26-54-410/profiler-output/system/incremental/2021102023/1634772480.algo-1.json'},\n",
       "   {'Key': 'xgboost-as-a-built-in-algo/output/sagemaker-xgboost-2021-10-20-23-26-54-410/rule-output/ProfilerReport-1634772414/profiler-output/profiler-reports/BatchSize.json'},\n",
       "   {'Key': 'xgboost-as-a-built-in-algo/output/sagemaker-xgboost-2021-10-20-23-26-54-410/rule-output/ProfilerReport-1634772414/profiler-output/profiler-reports/StepOutlier.json'},\n",
       "   {'Key': 'xgboost-as-a-built-in-algo/output/sagemaker-xgboost-2021-10-20-23-15-11-900/rule-output/ProfilerReport-1634771711/profiler-output/profiler-reports/Dataloader.json'},\n",
       "   {'Key': 'xgboost-as-a-built-in-algo/output/sagemaker-xgboost-2021-10-20-23-15-11-900/rule-output/ProfilerReport-1634771711/profiler-output/profiler-reports/OverallFrameworkMetrics.json'},\n",
       "   {'Key': 'xgboost-as-a-built-in-algo/output/sagemaker-xgboost-2021-10-20-23-15-11-900/rule-output/ProfilerReport-1634771711/profiler-output/profiler-reports/BatchSize.json'}]}]"
      ]
     },
     "execution_count": 43,
     "metadata": {},
     "output_type": "execute_result"
    }
   ],
   "source": [
    "# terminate the respurces. or yu will be charged\n",
    "sagemaker.Session().delete_endpoint(Xgb_predictor.endpoint)\n",
    "bucket_to_delete = boto3.resource('s3').Bucket(bucket_name)\n",
    "bucket_to_delete.objects.all().delete()"
   ]
  },
  {
   "cell_type": "code",
   "execution_count": null,
   "id": "e73bffdc",
   "metadata": {},
   "outputs": [],
   "source": []
  }
 ],
 "metadata": {
  "kernelspec": {
   "display_name": "conda_python3",
   "language": "python",
   "name": "conda_python3"
  },
  "language_info": {
   "codemirror_mode": {
    "name": "ipython",
    "version": 3
   },
   "file_extension": ".py",
   "mimetype": "text/x-python",
   "name": "python",
   "nbconvert_exporter": "python",
   "pygments_lexer": "ipython3",
   "version": "3.6.13"
  }
 },
 "nbformat": 4,
 "nbformat_minor": 5
}
